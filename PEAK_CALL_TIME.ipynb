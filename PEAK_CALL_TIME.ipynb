{
  "nbformat": 4,
  "nbformat_minor": 0,
  "metadata": {
    "colab": {
      "provenance": []
    },
    "kernelspec": {
      "name": "python3",
      "display_name": "Python 3"
    },
    "language_info": {
      "name": "python"
    }
  },
  "cells": [
    {
      "cell_type": "code",
      "execution_count": 1,
      "metadata": {
        "id": "nCYYSuyqPcgr"
      },
      "outputs": [],
      "source": [
        "import pandas as pd"
      ]
    },
    {
      "cell_type": "code",
      "source": [
        "# Load the Excel file\n",
        "file_path = '/content/PEAK CALL TIMES.xlsx'\n",
        "data = pd.read_excel(file_path, sheet_name='PEAK CALL TIMES')\n"
      ],
      "metadata": {
        "id": "aaTHOx8pPmBO"
      },
      "execution_count": 2,
      "outputs": []
    },
    {
      "cell_type": "code",
      "source": [
        "# Step 1: Find the most frequent exact time\n",
        "exact_peak_time = data['Time'].value_counts().idxmax()\n",
        "exact_peak_time_count = data['Time'].value_counts().max()\n"
      ],
      "metadata": {
        "id": "DMNR4LmwP8Z3"
      },
      "execution_count": 3,
      "outputs": []
    },
    {
      "cell_type": "code",
      "source": [
        "print(f\"The peak call time (exact) is {exact_peak_time}, with {exact_peak_time_count} calls.\")\n"
      ],
      "metadata": {
        "colab": {
          "base_uri": "https://localhost:8080/"
        },
        "id": "YkUakp3qQAfW",
        "outputId": "fe94faf5-b766-4118-e964-e34cc6469794"
      },
      "execution_count": 4,
      "outputs": [
        {
          "output_type": "stream",
          "name": "stdout",
          "text": [
            "The peak call time (exact) is 11:55:41, with 30 calls.\n"
          ]
        }
      ]
    }
  ]
}