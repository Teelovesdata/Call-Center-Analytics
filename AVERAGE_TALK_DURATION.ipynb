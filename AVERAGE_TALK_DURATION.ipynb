{
  "nbformat": 4,
  "nbformat_minor": 0,
  "metadata": {
    "colab": {
      "provenance": []
    },
    "kernelspec": {
      "name": "python3",
      "display_name": "Python 3"
    },
    "language_info": {
      "name": "python"
    }
  },
  "cells": [
    {
      "cell_type": "code",
      "execution_count": 1,
      "metadata": {
        "id": "wsK7F8oLZ4BZ"
      },
      "outputs": [],
      "source": [
        "import pandas as pd"
      ]
    },
    {
      "cell_type": "code",
      "source": [
        "# Load the data\n",
        "file_path = '/content/AVERAGE TALK DURATION.xlsx'\n",
        "data = pd.read_excel(file_path, sheet_name='Sheet1')\n"
      ],
      "metadata": {
        "id": "JFuhQSiyZ71r"
      },
      "execution_count": 3,
      "outputs": []
    },
    {
      "cell_type": "code",
      "source": [
        "# Ensure the column contains valid time strings\n",
        "# If necessary, inspect the data to confirm format\n",
        "# Convert the time strings to timedelta\n",
        "data['AvgTalkDuration'] = pd.to_timedelta(data['AvgTalkDuration'].astype(str))\n"
      ],
      "metadata": {
        "id": "dkPyGhCWaKTc"
      },
      "execution_count": 4,
      "outputs": []
    },
    {
      "cell_type": "code",
      "source": [
        "# Calculate the mean duration\n",
        "mean_duration = data['AvgTalkDuration'].mean()\n"
      ],
      "metadata": {
        "id": "F8bfi5_daNbg"
      },
      "execution_count": 5,
      "outputs": []
    },
    {
      "cell_type": "code",
      "source": [
        "# Convert the mean duration back to a human-readable format\n",
        "print(\"Average Talk Duration:\", str(mean_duration))"
      ],
      "metadata": {
        "colab": {
          "base_uri": "https://localhost:8080/"
        },
        "id": "_Isl5PKXaQor",
        "outputId": "81441a62-eb44-4be3-bbc6-ba1ae26e09fc"
      },
      "execution_count": 6,
      "outputs": [
        {
          "output_type": "stream",
          "name": "stdout",
          "text": [
            "Average Talk Duration: 0 days 00:03:44.922792303\n"
          ]
        }
      ]
    }
  ]
}